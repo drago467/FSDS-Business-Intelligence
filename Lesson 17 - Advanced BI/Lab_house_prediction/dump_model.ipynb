{
 "cells": [
  {
   "cell_type": "code",
   "execution_count": 1,
   "id": "7032a5b9",
   "metadata": {},
   "outputs": [
    {
     "name": "stdout",
     "output_type": "stream",
     "text": [
      "✅ Model saved to house_price_model.pkl\n"
     ]
    }
   ],
   "source": [
    "import pandas as pd\n",
    "import numpy as np\n",
    "from sklearn.ensemble import RandomForestRegressor\n",
    "from sklearn.preprocessing import OneHotEncoder\n",
    "from sklearn.compose import ColumnTransformer\n",
    "from sklearn.pipeline import Pipeline\n",
    "import joblib\n",
    "\n",
    "# Load data\n",
    "df = pd.read_csv('house_prices_hanoi_50000.csv')\n",
    "\n",
    "# Train model\n",
    "X = df[['square_meters', 'num_floors', 'num_bedrooms', 'num_bathrooms',\n",
    "        'garage', 'main_road', 'near_school', 'near_market',\n",
    "        'location', 'year_built']]\n",
    "y = df['price']\n",
    "\n",
    "# Preprocessor\n",
    "preprocessor = ColumnTransformer([\n",
    "    ('location', OneHotEncoder(handle_unknown='ignore'), ['location'])\n",
    "], remainder='passthrough')\n",
    "\n",
    "# Pipeline\n",
    "model_pipeline = Pipeline(steps=[\n",
    "    ('preprocessor', preprocessor),\n",
    "    ('regressor', RandomForestRegressor(n_estimators=100, random_state=42))\n",
    "])\n",
    "\n",
    "# Train model\n",
    "model_pipeline.fit(X, y)\n",
    "\n",
    "# Dump model\n",
    "joblib.dump(model_pipeline, 'house_price_model.pkl')\n",
    "print(\"✅ Model saved to house_price_model.pkl\")\n"
   ]
  }
 ],
 "metadata": {
  "kernelspec": {
   "display_name": "base",
   "language": "python",
   "name": "python3"
  },
  "language_info": {
   "codemirror_mode": {
    "name": "ipython",
    "version": 3
   },
   "file_extension": ".py",
   "mimetype": "text/x-python",
   "name": "python",
   "nbconvert_exporter": "python",
   "pygments_lexer": "ipython3",
   "version": "3.12.7"
  }
 },
 "nbformat": 4,
 "nbformat_minor": 5
}
