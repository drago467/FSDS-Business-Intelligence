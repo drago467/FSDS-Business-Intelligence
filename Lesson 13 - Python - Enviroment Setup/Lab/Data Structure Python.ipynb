{
 "cells": [
  {
   "cell_type": "markdown",
   "id": "d3bcd6ba",
   "metadata": {},
   "source": [
    "# Python Compound Data Types: Data Structures\n",
    "\n",
    "Run each commands and try to understand each data type and its operation."
   ]
  },
  {
   "cell_type": "markdown",
   "id": "6aa69f56",
   "metadata": {
    "heading_collapsed": true
   },
   "source": [
    "## Lists"
   ]
  },
  {
   "cell_type": "markdown",
   "id": "6aefab33",
   "metadata": {
    "hidden": true
   },
   "source": [
    "- Một dãy các objects, độ dài và các phần tử trong list có thể thay đổi được.\n",
    "- Khai báo bằng ngoặc vuông hoặc hàm list."
   ]
  },
  {
   "cell_type": "markdown",
   "id": "68b67adc",
   "metadata": {
    "heading_collapsed": true,
    "hidden": true
   },
   "source": [
    "### Practice 1"
   ]
  },
  {
   "cell_type": "markdown",
   "id": "a5ea3dad",
   "metadata": {
    "hidden": true
   },
   "source": [
    "`squares = [1, 4, 9, 16, 25]`\n",
    "\n",
    "`squares[0]\n",
    "squares[-1]`\n",
    "\n",
    "`squares[1] = 16\n",
    "squares`\n",
    "\n",
    "Add 36 to the list `squares`\n",
    "\n",
    "You change your mind, remove 36 from the list\n",
    "\n",
    "Reverse the order of items in the list\n",
    "\n",
    "Make a list named `namelist` that contains `john`, `marry`, `michel`, `risk`. \n",
    "\n",
    "Find out how long this list is\n",
    "\n",
    "Make a list with 5 random numbers (you can mix integers and floats)\n",
    "\n",
    "What is the maximum and minimum value in the list?\n",
    "\n",
    "What happens if you summarize all the values in the list?\n",
    "\n",
    "Is the result an int or float? Why?\n",
    "\n",
    "`cubes = [1, 8, 27, 64]`\n",
    "\n",
    "print appropriately to output the text `'This list has the length 4 and maximum value 64'`"
   ]
  },
  {
   "cell_type": "markdown",
   "id": "12991a72",
   "metadata": {
    "heading_collapsed": true,
    "hidden": true
   },
   "source": [
    "#### Answers"
   ]
  },
  {
   "cell_type": "markdown",
   "id": "e224b8cd",
   "metadata": {
    "hidden": true
   },
   "source": [
    "Lists are similar to strings and many operations can be performed similarly in both. They are both indexed in the same way, and can be manipulated in much the same ways."
   ]
  },
  {
   "cell_type": "code",
   "execution_count": 1,
   "id": "2eaca287",
   "metadata": {
    "hidden": true
   },
   "outputs": [
    {
     "name": "stdout",
     "output_type": "stream",
     "text": [
      "1\n",
      "25\n"
     ]
    }
   ],
   "source": [
    "squares = [1, 4, 9, 16, 25] \n",
    "\n",
    "print(squares[0])\n",
    "print(squares[-1])"
   ]
  },
  {
   "cell_type": "code",
   "execution_count": 2,
   "id": "bed56de0",
   "metadata": {
    "hidden": true
   },
   "outputs": [
    {
     "data": {
      "text/plain": [
       "[1, 16, 9, 16, 25]"
      ]
     },
     "execution_count": 2,
     "metadata": {},
     "output_type": "execute_result"
    }
   ],
   "source": [
    "squares[1] = 16\n",
    "squares"
   ]
  },
  {
   "cell_type": "markdown",
   "id": "92c562aa",
   "metadata": {
    "hidden": true
   },
   "source": [
    "One large difference between strings and lists is that lists are mutable. You can easily replace an item in a list using indexing, as shown above."
   ]
  },
  {
   "cell_type": "code",
   "execution_count": 3,
   "id": "5cd5934c",
   "metadata": {
    "hidden": true
   },
   "outputs": [
    {
     "data": {
      "text/plain": [
       "[1, 16, 9, 16, 25, 36]"
      ]
     },
     "execution_count": 3,
     "metadata": {},
     "output_type": "execute_result"
    }
   ],
   "source": [
    "# Add 36 to the list squares\n",
    "squares.append(36)\n",
    "squares"
   ]
  },
  {
   "cell_type": "markdown",
   "id": "0fe444cc",
   "metadata": {
    "hidden": true
   },
   "source": [
    "Remove 36 from the list again\n",
    "\n",
    "- Easiest here is to use the pop() method, that removes the last item in a list. However, there are other options, both squares.remove(36) and del squares[5] will remove 36 from the list. squares.remove(36) will remove only the first instance of 36 in the list, while del square[5] will delete the item with index position 5."
   ]
  },
  {
   "cell_type": "code",
   "execution_count": 4,
   "id": "3aede87a",
   "metadata": {
    "hidden": true
   },
   "outputs": [
    {
     "data": {
      "text/plain": [
       "[1, 16, 9, 16, 25]"
      ]
     },
     "execution_count": 4,
     "metadata": {},
     "output_type": "execute_result"
    }
   ],
   "source": [
    "squares.pop()\n",
    "squares"
   ]
  },
  {
   "cell_type": "markdown",
   "id": "614df075",
   "metadata": {
    "hidden": true
   },
   "source": [
    "Reverse the order of the list\n",
    "\n",
    "- Here we have two options in contrast to when reversing the order of a string. We can both use squares[::-1], and squares.reverse(), which is a method that only works on lists. NOTE! While using squares[::-1] only displays the list in reverse order, squares.reverse() reverses it in place."
   ]
  },
  {
   "cell_type": "code",
   "execution_count": 5,
   "id": "b62521c1",
   "metadata": {
    "hidden": true
   },
   "outputs": [
    {
     "name": "stdout",
     "output_type": "stream",
     "text": [
      "[1, 16, 9, 16, 25]\n",
      "[25, 16, 9, 16, 1]\n",
      "[1, 16, 9, 16, 25]\n"
     ]
    }
   ],
   "source": [
    "print(squares)\n",
    "print(squares[::-1])\n",
    "print(squares)"
   ]
  },
  {
   "cell_type": "code",
   "execution_count": 6,
   "id": "0083304d",
   "metadata": {
    "hidden": true
   },
   "outputs": [
    {
     "name": "stdout",
     "output_type": "stream",
     "text": [
      "[25, 16, 9, 16, 1]\n"
     ]
    }
   ],
   "source": [
    "squares.reverse()\n",
    "print(squares)"
   ]
  },
  {
   "cell_type": "code",
   "execution_count": 7,
   "id": "33e2c2f6",
   "metadata": {
    "hidden": true
   },
   "outputs": [
    {
     "data": {
      "text/plain": [
       "4"
      ]
     },
     "execution_count": 7,
     "metadata": {},
     "output_type": "execute_result"
    }
   ],
   "source": [
    "# Create a list: `namelist`\n",
    "namelist = [\"john\", \"marry\", \"michel\", \"risk\"]\n",
    "\n",
    "# Show length of the list\n",
    "len(namelist)"
   ]
  },
  {
   "cell_type": "code",
   "execution_count": 8,
   "id": "b6e7ad95",
   "metadata": {
    "hidden": true
   },
   "outputs": [
    {
     "name": "stdout",
     "output_type": "stream",
     "text": [
      "6.8 1\n",
      "19.94\n",
      "<class 'float'>\n"
     ]
    }
   ],
   "source": [
    "random = [1, 5, 4, 6.8, 3.14]\n",
    "print(max(random),min(random))\n",
    "print(sum(random))\n",
    "print(type(sum(random)))\n",
    "\n",
    "# In this example the summarized value is a float, as there are floats present in the list"
   ]
  },
  {
   "cell_type": "code",
   "execution_count": 9,
   "id": "ad09858a",
   "metadata": {
    "hidden": true
   },
   "outputs": [
    {
     "name": "stdout",
     "output_type": "stream",
     "text": [
      "This list has the length 4 and maximum value 64\n"
     ]
    }
   ],
   "source": [
    "cubes = [1, 8, 27, 64]\n",
    "print(\"This list has the length {} and maximum value {}\".format(len(cubes), max(cubes)))"
   ]
  },
  {
   "cell_type": "markdown",
   "id": "b6e1266c",
   "metadata": {
    "heading_collapsed": true,
    "hidden": true
   },
   "source": [
    "### More about list"
   ]
  },
  {
   "cell_type": "code",
   "execution_count": 10,
   "id": "a66c8b65",
   "metadata": {
    "hidden": true
   },
   "outputs": [],
   "source": [
    "a = [7,2,5,1,3]"
   ]
  },
  {
   "cell_type": "code",
   "execution_count": 11,
   "id": "82bd781f",
   "metadata": {
    "hidden": true
   },
   "outputs": [
    {
     "data": {
      "text/plain": [
       "[1, 2, 3, 5, 7]"
      ]
     },
     "execution_count": 11,
     "metadata": {},
     "output_type": "execute_result"
    }
   ],
   "source": [
    "# Sort a list\n",
    "sorted(a)"
   ]
  },
  {
   "cell_type": "code",
   "execution_count": 12,
   "id": "93583707",
   "metadata": {
    "hidden": true
   },
   "outputs": [
    {
     "data": {
      "text/plain": [
       "[7, 5, 3, 2, 1]"
      ]
     },
     "execution_count": 12,
     "metadata": {},
     "output_type": "execute_result"
    }
   ],
   "source": [
    "# Săp xếp giảm dần\n",
    "sorted(a, reverse=True)"
   ]
  },
  {
   "cell_type": "code",
   "execution_count": 13,
   "id": "f0bf662c",
   "metadata": {
    "hidden": true
   },
   "outputs": [
    {
     "data": {
      "text/plain": [
       "[7, 2, 5, 1, 3]"
      ]
     },
     "execution_count": 13,
     "metadata": {},
     "output_type": "execute_result"
    }
   ],
   "source": [
    "a"
   ]
  },
  {
   "cell_type": "code",
   "execution_count": 14,
   "id": "1d788824",
   "metadata": {
    "hidden": true
   },
   "outputs": [
    {
     "data": {
      "text/plain": [
       "[1, 2, 3, 5, 7]"
      ]
     },
     "execution_count": 14,
     "metadata": {},
     "output_type": "execute_result"
    }
   ],
   "source": [
    "# Sort Inplace\n",
    "a.sort()\n",
    "a"
   ]
  },
  {
   "cell_type": "code",
   "execution_count": 15,
   "id": "99d7b67a",
   "metadata": {
    "hidden": true
   },
   "outputs": [],
   "source": [
    "# Check exist member in a list\n",
    "names = ['Giang', 'Huong', 'Huyen', 'Linh', 'Ngan', 'Ngoc']"
   ]
  },
  {
   "cell_type": "code",
   "execution_count": 16,
   "id": "8586e560",
   "metadata": {
    "hidden": true
   },
   "outputs": [
    {
     "data": {
      "text/plain": [
       "True"
      ]
     },
     "execution_count": 16,
     "metadata": {},
     "output_type": "execute_result"
    }
   ],
   "source": [
    "'Linh' in names"
   ]
  },
  {
   "cell_type": "code",
   "execution_count": 17,
   "id": "2f4404d9",
   "metadata": {
    "hidden": true
   },
   "outputs": [
    {
     "data": {
      "text/plain": [
       "False"
      ]
     },
     "execution_count": 17,
     "metadata": {},
     "output_type": "execute_result"
    }
   ],
   "source": [
    "'Trang' in names"
   ]
  },
  {
   "cell_type": "markdown",
   "id": "48d61498",
   "metadata": {
    "heading_collapsed": true
   },
   "source": [
    "## Dictionary"
   ]
  },
  {
   "cell_type": "markdown",
   "id": "b69dd50b",
   "metadata": {
    "hidden": true
   },
   "source": [
    "dict là một tập hợp các cặp khóa-giá trị có kích thước linh hoạt, trong đó khóa và giá trị là các đối tượng Python. Một cách tiếp cận để tạo một tập hợp là sử dụng dấu ngoặc nhọn {} và dấu hai chấm để phân tách khóa và giá trị:"
   ]
  },
  {
   "cell_type": "code",
   "execution_count": 18,
   "id": "e985585a",
   "metadata": {
    "hidden": true
   },
   "outputs": [
    {
     "data": {
      "text/plain": [
       "{'full_name': 'Nguyen Van A', 'phones': ['090078955', '0168558889']}"
      ]
     },
     "execution_count": 18,
     "metadata": {},
     "output_type": "execute_result"
    }
   ],
   "source": [
    "d1 = {'full_name' : 'Nguyen Van A', 'phones' : ['090078955','0168558889']}\n",
    "d1"
   ]
  },
  {
   "cell_type": "code",
   "execution_count": 19,
   "id": "c46975b3",
   "metadata": {
    "hidden": true
   },
   "outputs": [
    {
     "data": {
      "text/plain": [
       "['090078955', '0168558889']"
      ]
     },
     "execution_count": 19,
     "metadata": {},
     "output_type": "execute_result"
    }
   ],
   "source": [
    "# Get value by key\n",
    "d1['phones']"
   ]
  },
  {
   "cell_type": "code",
   "execution_count": 20,
   "id": "ae82899c",
   "metadata": {
    "hidden": true
   },
   "outputs": [
    {
     "data": {
      "text/plain": [
       "{'full_name': 'Nguyen Van A',\n",
       " 'phones': ['090078955', '0168558889'],\n",
       " 'id': '017109888'}"
      ]
     },
     "execution_count": 20,
     "metadata": {},
     "output_type": "execute_result"
    }
   ],
   "source": [
    "# Add a key-value pair\n",
    "d1['id'] = '017109888'\n",
    "d1"
   ]
  },
  {
   "cell_type": "code",
   "execution_count": 21,
   "id": "cad2017d",
   "metadata": {
    "hidden": true
   },
   "outputs": [
    {
     "data": {
      "text/plain": [
       "{'full_name': 'Nguyen Van A',\n",
       " 'phones': ['090078955', '0168558889'],\n",
       " 'id': '5678'}"
      ]
     },
     "execution_count": 21,
     "metadata": {},
     "output_type": "execute_result"
    }
   ],
   "source": [
    "# If the key already exist, edit the value\n",
    "d1['id'] = '5678'\n",
    "d1"
   ]
  },
  {
   "cell_type": "code",
   "execution_count": 22,
   "id": "489b325f",
   "metadata": {
    "hidden": true
   },
   "outputs": [
    {
     "data": {
      "text/plain": [
       "str"
      ]
     },
     "execution_count": 22,
     "metadata": {},
     "output_type": "execute_result"
    }
   ],
   "source": [
    "# Get member of value\n",
    "s=d1['phones'][1] \n",
    "type(d1['phones'][1])"
   ]
  },
  {
   "cell_type": "code",
   "execution_count": 23,
   "id": "c0345c9b",
   "metadata": {
    "hidden": true
   },
   "outputs": [
    {
     "data": {
      "text/plain": [
       "{'full_name': 'Nguyen Van A',\n",
       " 'phones': ['090078955', '038558889'],\n",
       " 'id': '5678'}"
      ]
     },
     "execution_count": 23,
     "metadata": {},
     "output_type": "execute_result"
    }
   ],
   "source": [
    "# Change value\n",
    "d1['phones'][1] = d1['phones'][1].replace('016', '03')\n",
    "d1"
   ]
  },
  {
   "cell_type": "code",
   "execution_count": 24,
   "id": "14ecd492",
   "metadata": {
    "hidden": true
   },
   "outputs": [
    {
     "data": {
      "text/plain": [
       "True"
      ]
     },
     "execution_count": 24,
     "metadata": {},
     "output_type": "execute_result"
    }
   ],
   "source": [
    "# Check key exist?\n",
    "'id' in d1"
   ]
  },
  {
   "cell_type": "code",
   "execution_count": 25,
   "id": "44a023da",
   "metadata": {
    "hidden": true
   },
   "outputs": [
    {
     "data": {
      "text/plain": [
       "{'full_name': 'Nguyen Van A', 'phones': ['090078955', '038558889']}"
      ]
     },
     "execution_count": 25,
     "metadata": {},
     "output_type": "execute_result"
    }
   ],
   "source": [
    "# Delete a key\n",
    "del d1['id']\n",
    "d1"
   ]
  },
  {
   "cell_type": "code",
   "execution_count": 26,
   "id": "c18ee073",
   "metadata": {
    "hidden": true
   },
   "outputs": [
    {
     "data": {
      "text/plain": [
       "False"
      ]
     },
     "execution_count": 26,
     "metadata": {},
     "output_type": "execute_result"
    }
   ],
   "source": [
    "'id' in d1"
   ]
  },
  {
   "cell_type": "code",
   "execution_count": 27,
   "id": "b690e325",
   "metadata": {
    "hidden": true
   },
   "outputs": [
    {
     "data": {
      "text/plain": [
       "['full_name', 'phones']"
      ]
     },
     "execution_count": 27,
     "metadata": {},
     "output_type": "execute_result"
    }
   ],
   "source": [
    "# List of keys\n",
    "list(d1.keys())"
   ]
  },
  {
   "cell_type": "code",
   "execution_count": 28,
   "id": "3a2e35db",
   "metadata": {
    "hidden": true
   },
   "outputs": [
    {
     "data": {
      "text/plain": [
       "['Nguyen Van A', ['090078955', '038558889']]"
      ]
     },
     "execution_count": 28,
     "metadata": {},
     "output_type": "execute_result"
    }
   ],
   "source": [
    "# List of values\n",
    "list(d1.values())"
   ]
  },
  {
   "cell_type": "code",
   "execution_count": 29,
   "id": "485afeb8",
   "metadata": {
    "hidden": true
   },
   "outputs": [
    {
     "data": {
      "text/plain": [
       "dict_items([('full_name', 'Nguyen Van A'), ('phones', ['090078955', '038558889'])])"
      ]
     },
     "execution_count": 29,
     "metadata": {},
     "output_type": "execute_result"
    }
   ],
   "source": [
    "# All items of the dictionary\n",
    "d1.items()"
   ]
  },
  {
   "cell_type": "code",
   "execution_count": 30,
   "id": "e430a0f4",
   "metadata": {
    "hidden": true
   },
   "outputs": [
    {
     "data": {
      "text/plain": [
       "{'Full Name': 'Nguyen Van A', 'ID': 12345678, 'Grade': 'A'}"
      ]
     },
     "execution_count": 30,
     "metadata": {},
     "output_type": "execute_result"
    }
   ],
   "source": [
    "# Create dictionary by zipping two list\n",
    "value = ['Nguyen Van A', 12345678, 'A']\n",
    "key = ['Full Name', 'ID', 'Grade']\n",
    "zipped = zip(key, value)\n",
    "dict(zipped)"
   ]
  },
  {
   "cell_type": "markdown",
   "id": "0835f023",
   "metadata": {
    "heading_collapsed": true
   },
   "source": [
    "## Tuple"
   ]
  },
  {
   "cell_type": "markdown",
   "id": "0e6b20d0",
   "metadata": {
    "hidden": true
   },
   "source": [
    "Một dãy (có độ dài cố định) các đối tượng (objects), không thay đổi được\n",
    "Khai báo với dấu phẩy để phân chia các giá trị trong dãy"
   ]
  },
  {
   "cell_type": "code",
   "execution_count": 31,
   "id": "da23a52c",
   "metadata": {
    "hidden": true
   },
   "outputs": [],
   "source": [
    "tup = 1, 'FDC104' ,[1, 2, 3]"
   ]
  },
  {
   "cell_type": "code",
   "execution_count": 32,
   "id": "90d34503",
   "metadata": {
    "hidden": true
   },
   "outputs": [
    {
     "data": {
      "text/plain": [
       "(1, 'FDC104', [1, 2, 3])"
      ]
     },
     "execution_count": 32,
     "metadata": {},
     "output_type": "execute_result"
    }
   ],
   "source": [
    "tup"
   ]
  },
  {
   "cell_type": "code",
   "execution_count": 33,
   "id": "8e5307af",
   "metadata": {
    "hidden": true
   },
   "outputs": [
    {
     "data": {
      "text/plain": [
       "'FDC104'"
      ]
     },
     "execution_count": 33,
     "metadata": {},
     "output_type": "execute_result"
    }
   ],
   "source": [
    "# Truy cập các phần tử trong tuple\n",
    "tup[1]"
   ]
  },
  {
   "cell_type": "code",
   "execution_count": 34,
   "id": "a9742754",
   "metadata": {
    "hidden": true
   },
   "outputs": [
    {
     "ename": "TypeError",
     "evalue": "'tuple' object does not support item assignment",
     "output_type": "error",
     "traceback": [
      "\u001b[0;31m---------------------------------------------------------------------------\u001b[0m",
      "\u001b[0;31mTypeError\u001b[0m                                 Traceback (most recent call last)",
      "Cell \u001b[0;32mIn[34], line 2\u001b[0m\n\u001b[1;32m      1\u001b[0m \u001b[38;5;66;03m# Tuple is Immutable\u001b[39;00m\n\u001b[0;32m----> 2\u001b[0m \u001b[43mtup\u001b[49m\u001b[43m[\u001b[49m\u001b[38;5;241;43m0\u001b[39;49m\u001b[43m]\u001b[49m \u001b[38;5;241m=\u001b[39m \u001b[38;5;241m4\u001b[39m\n\u001b[1;32m      3\u001b[0m tup\n",
      "\u001b[0;31mTypeError\u001b[0m: 'tuple' object does not support item assignment"
     ]
    }
   ],
   "source": [
    "# Tuple is Immutable\n",
    "tup[0] = 4\n",
    "tup"
   ]
  },
  {
   "cell_type": "markdown",
   "id": "ed3f46eb",
   "metadata": {
    "hidden": true
   },
   "source": [
    "Tuy nhiên nếu một phần tử trong tuble là kiểu thay đổi được (mutable), ví dụ như list, thì chúng ta có thể thay đổi phần tử đấy."
   ]
  },
  {
   "cell_type": "code",
   "execution_count": 35,
   "id": "eadd1fee",
   "metadata": {
    "hidden": true
   },
   "outputs": [
    {
     "data": {
      "text/plain": [
       "(1, 'FDC104', [1, 2, 3, 4])"
      ]
     },
     "execution_count": 35,
     "metadata": {},
     "output_type": "execute_result"
    }
   ],
   "source": [
    "tup[2].append(4)\n",
    "tup"
   ]
  },
  {
   "cell_type": "code",
   "execution_count": 36,
   "id": "5396753d",
   "metadata": {
    "hidden": true
   },
   "outputs": [],
   "source": [
    "# Nested tuple\n",
    "nested_tup = ((4, 5, 6), (7, 8))"
   ]
  },
  {
   "cell_type": "code",
   "execution_count": 37,
   "id": "0c6c9260",
   "metadata": {
    "hidden": true
   },
   "outputs": [
    {
     "data": {
      "text/plain": [
       "(4, 5, 6)"
      ]
     },
     "execution_count": 37,
     "metadata": {},
     "output_type": "execute_result"
    }
   ],
   "source": [
    "nested_tup[0]"
   ]
  },
  {
   "cell_type": "code",
   "execution_count": 38,
   "id": "d0aaea50",
   "metadata": {
    "hidden": true
   },
   "outputs": [],
   "source": [
    "# Unpacking a tuple\n",
    "tup1 = (6, 8 ,9)\n",
    "a, b, c = tup1"
   ]
  },
  {
   "cell_type": "code",
   "execution_count": 39,
   "id": "55e344cd",
   "metadata": {
    "hidden": true
   },
   "outputs": [
    {
     "data": {
      "text/plain": [
       "6"
      ]
     },
     "execution_count": 39,
     "metadata": {},
     "output_type": "execute_result"
    }
   ],
   "source": [
    "a"
   ]
  },
  {
   "cell_type": "code",
   "execution_count": 40,
   "id": "598ba1f5",
   "metadata": {
    "hidden": true
   },
   "outputs": [],
   "source": [
    "tup2 = (5, [6, 7, 8], 9)\n",
    "a, [x, y, z], c = tup2"
   ]
  },
  {
   "cell_type": "code",
   "execution_count": 41,
   "id": "3e69b151",
   "metadata": {
    "hidden": true
   },
   "outputs": [
    {
     "data": {
      "text/plain": [
       "6"
      ]
     },
     "execution_count": 41,
     "metadata": {},
     "output_type": "execute_result"
    }
   ],
   "source": [
    "x"
   ]
  },
  {
   "cell_type": "code",
   "execution_count": 42,
   "id": "096f8f87",
   "metadata": {
    "hidden": true
   },
   "outputs": [
    {
     "data": {
      "text/plain": [
       "True"
      ]
     },
     "execution_count": 42,
     "metadata": {},
     "output_type": "execute_result"
    }
   ],
   "source": [
    "# Membership test\n",
    "9 in tup2"
   ]
  },
  {
   "cell_type": "code",
   "execution_count": 43,
   "id": "09f217ba",
   "metadata": {
    "hidden": true
   },
   "outputs": [
    {
     "data": {
      "text/plain": [
       "3"
      ]
     },
     "execution_count": 43,
     "metadata": {},
     "output_type": "execute_result"
    }
   ],
   "source": [
    "# Length\n",
    "len(tup2)"
   ]
  },
  {
   "cell_type": "code",
   "execution_count": 44,
   "id": "107f6b1e",
   "metadata": {
    "hidden": true
   },
   "outputs": [
    {
     "data": {
      "text/plain": [
       "3"
      ]
     },
     "execution_count": 44,
     "metadata": {},
     "output_type": "execute_result"
    }
   ],
   "source": [
    "# Đếm số lượng xuất hiện của một phần tử trong tuble\n",
    "new_tuple = 1, 2, 3, '', 5, 1, 2, 1\n",
    "new_tuple.count(1)"
   ]
  },
  {
   "cell_type": "markdown",
   "id": "e7a4798e",
   "metadata": {
    "heading_collapsed": true
   },
   "source": [
    "## Set"
   ]
  },
  {
   "cell_type": "markdown",
   "id": "60d0874a",
   "metadata": {
    "hidden": true
   },
   "source": [
    "A set là một tập hợp không có thứ tự các phần tử duy nhất. Bạn có thể nghĩ về chúng như các dict, nhưng chỉ có khóa, không có giá trị. Một tập hợp có thể được tạo theo hai cách: thông qua hàm set hoặc thông qua một tập hợp theo nghĩa đen với dấu ngoặc nhọn:"
   ]
  },
  {
   "cell_type": "code",
   "execution_count": 45,
   "id": "798461e1",
   "metadata": {
    "hidden": true
   },
   "outputs": [
    {
     "name": "stdout",
     "output_type": "stream",
     "text": [
      "[2, 2, 2, 1, 3, 3]\n",
      "{1, 2, 3}\n"
     ]
    }
   ],
   "source": [
    "li = [2, 2, 2, 1, 3, 3]\n",
    "se = set(li)\n",
    "print(li)\n",
    "print(se)"
   ]
  },
  {
   "cell_type": "code",
   "execution_count": 46,
   "id": "7583e565",
   "metadata": {
    "hidden": true
   },
   "outputs": [],
   "source": [
    "# Set theory\n",
    "a = {1, 2, 3, 4, 5}\n",
    "b = {3, 4, 5, 6, 7, 8}"
   ]
  },
  {
   "cell_type": "code",
   "execution_count": 47,
   "id": "c751c8e2",
   "metadata": {
    "hidden": true
   },
   "outputs": [
    {
     "data": {
      "text/plain": [
       "{1, 2, 3, 4, 5, 6, 7, 8}"
      ]
     },
     "execution_count": 47,
     "metadata": {},
     "output_type": "execute_result"
    }
   ],
   "source": [
    "a.union(b)"
   ]
  },
  {
   "cell_type": "code",
   "execution_count": 48,
   "id": "2146fb66",
   "metadata": {
    "hidden": true
   },
   "outputs": [
    {
     "data": {
      "text/plain": [
       "{3, 4, 5}"
      ]
     },
     "execution_count": 48,
     "metadata": {},
     "output_type": "execute_result"
    }
   ],
   "source": [
    "a.intersection(b)"
   ]
  },
  {
   "cell_type": "code",
   "execution_count": 49,
   "id": "31e96f22",
   "metadata": {
    "hidden": true
   },
   "outputs": [
    {
     "data": {
      "text/plain": [
       "{1, 2}"
      ]
     },
     "execution_count": 49,
     "metadata": {},
     "output_type": "execute_result"
    }
   ],
   "source": [
    "a.difference(b)"
   ]
  },
  {
   "cell_type": "code",
   "execution_count": 50,
   "id": "b6d76ac5",
   "metadata": {
    "hidden": true
   },
   "outputs": [
    {
     "data": {
      "text/plain": [
       "{1, 2, 3, 4}"
      ]
     },
     "execution_count": 50,
     "metadata": {},
     "output_type": "execute_result"
    }
   ],
   "source": [
    "# Delete a value\n",
    "a = {1, 2, 3, 4, 5}\n",
    "a.discard(5)\n",
    "a"
   ]
  },
  {
   "cell_type": "code",
   "execution_count": 51,
   "id": "56f16de9",
   "metadata": {
    "hidden": true
   },
   "outputs": [
    {
     "data": {
      "text/plain": [
       "{1, 2, 3, 4, 5}"
      ]
     },
     "execution_count": 51,
     "metadata": {},
     "output_type": "execute_result"
    }
   ],
   "source": [
    "# Add\n",
    "a.add(5)\n",
    "a"
   ]
  },
  {
   "cell_type": "code",
   "execution_count": 52,
   "id": "9b0b7111",
   "metadata": {
    "hidden": true
   },
   "outputs": [
    {
     "data": {
      "text/plain": [
       "True"
      ]
     },
     "execution_count": 52,
     "metadata": {},
     "output_type": "execute_result"
    }
   ],
   "source": [
    "a_set = {1, 2, 3, 4, 5}\n",
    "new_set = {1, 2, 3, 4}\n",
    "new_set.issubset(a_set)"
   ]
  },
  {
   "cell_type": "code",
   "execution_count": 53,
   "id": "1b48f7d5",
   "metadata": {
    "hidden": true
   },
   "outputs": [
    {
     "data": {
      "text/plain": [
       "True"
      ]
     },
     "execution_count": 53,
     "metadata": {},
     "output_type": "execute_result"
    }
   ],
   "source": [
    "{1, 2, 3} == {3, 2, 1}"
   ]
  },
  {
   "cell_type": "markdown",
   "id": "b7f1c823",
   "metadata": {},
   "source": [
    "## 5. Lưu trữ RAM"
   ]
  },
  {
   "cell_type": "code",
   "execution_count": 72,
   "id": "43762152",
   "metadata": {},
   "outputs": [
    {
     "name": "stdout",
     "output_type": "stream",
     "text": [
      "4425789248\n"
     ]
    }
   ],
   "source": [
    "a = [1, 2, 3]\n",
    "print(id(a))  # In ra địa chỉ vùng nhớ của list `a` (một số nguyên)"
   ]
  },
  {
   "cell_type": "code",
   "execution_count": 76,
   "id": "904aa9b8",
   "metadata": {},
   "outputs": [
    {
     "name": "stdout",
     "output_type": "stream",
     "text": [
      "4425789248\n"
     ]
    }
   ],
   "source": [
    "print(id(a))"
   ]
  },
  {
   "cell_type": "code",
   "execution_count": 74,
   "id": "34efa3c0",
   "metadata": {},
   "outputs": [],
   "source": [
    "a.append(4)"
   ]
  },
  {
   "cell_type": "code",
   "execution_count": 78,
   "id": "dd74ce69",
   "metadata": {},
   "outputs": [
    {
     "name": "stdout",
     "output_type": "stream",
     "text": [
      "[1, 2, 3, 4]\n",
      "[1, 2, 3, 4]\n",
      "4425789248\n",
      "4425789248\n"
     ]
    }
   ],
   "source": [
    "b = a\n",
    "print(b)\n",
    "print(a)\n",
    "print(id(a))\n",
    "print(id(b))\n",
    "\n",
    "# Tham chiếu tới cùng 1 object"
   ]
  }
 ],
 "metadata": {
  "kernelspec": {
   "display_name": "fsds_env",
   "language": "python",
   "name": "python3"
  },
  "language_info": {
   "codemirror_mode": {
    "name": "ipython",
    "version": 3
   },
   "file_extension": ".py",
   "mimetype": "text/x-python",
   "name": "python",
   "nbconvert_exporter": "python",
   "pygments_lexer": "ipython3",
   "version": "3.9.21"
  },
  "toc": {
   "base_numbering": 1,
   "nav_menu": {},
   "number_sections": true,
   "sideBar": true,
   "skip_h1_title": false,
   "title_cell": "Table of Contents",
   "title_sidebar": "Contents",
   "toc_cell": false,
   "toc_position": {},
   "toc_section_display": true,
   "toc_window_display": false
  },
  "varInspector": {
   "cols": {
    "lenName": 16,
    "lenType": 16,
    "lenVar": 40
   },
   "kernels_config": {
    "python": {
     "delete_cmd_postfix": "",
     "delete_cmd_prefix": "del ",
     "library": "var_list.py",
     "varRefreshCmd": "print(var_dic_list())"
    },
    "r": {
     "delete_cmd_postfix": ") ",
     "delete_cmd_prefix": "rm(",
     "library": "var_list.r",
     "varRefreshCmd": "cat(var_dic_list()) "
    }
   },
   "types_to_exclude": [
    "module",
    "function",
    "builtin_function_or_method",
    "instance",
    "_Feature"
   ],
   "window_display": false
  }
 },
 "nbformat": 4,
 "nbformat_minor": 5
}
