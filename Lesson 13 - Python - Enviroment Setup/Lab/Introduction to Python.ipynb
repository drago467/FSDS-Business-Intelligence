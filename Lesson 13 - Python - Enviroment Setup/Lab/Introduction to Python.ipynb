{
 "cells": [
  {
   "cell_type": "markdown",
   "id": "3c6ca5aa",
   "metadata": {},
   "source": [
    "# 1. Giới thiệu kiểu dữ liệu"
   ]
  },
  {
   "cell_type": "code",
   "execution_count": 10,
   "id": "d6a44af2-daab-47d5-9b6c-313d371e881a",
   "metadata": {},
   "outputs": [
    {
     "name": "stdout",
     "output_type": "stream",
     "text": [
      "Hello, World\n",
      "Hello, World\n",
      "'\"Hello, World\"'\n"
     ]
    }
   ],
   "source": [
    "print(\"Hello, World\")"
   ]
  },
  {
   "cell_type": "code",
   "execution_count": null,
   "id": "e9d20a93-c8f6-4246-9dc3-eb0627ed1f74",
   "metadata": {},
   "outputs": [],
   "source": [
    "print(\"Hello, World\")\n",
    "print('Hello, World')\n",
    "print(\"\"\"'\"Hello, World\"'\"\"\")"
   ]
  },
  {
   "cell_type": "code",
   "execution_count": 1,
   "id": "f7927329-365b-4b5e-b7da-d09d17596164",
   "metadata": {},
   "outputs": [
    {
     "name": "stdout",
     "output_type": "stream",
     "text": [
      "Giá trị của x: 10\n",
      "Giá trị của y: 3.14\n",
      "Tên ngôn ngữ: Python\n",
      "Người dùng có kích hoạt tính năng: True\n",
      "Tổng của x và y: 13.14\n",
      "Hiệu của x và y: 6.859999999999999\n",
      "Tích của x và y: 31.400000000000002\n",
      "Thương của x và y: 3.184713375796178\n",
      "x lớn hơn 5\n",
      "Số hiện tại: 0\n",
      "Số hiện tại: 1\n",
      "Số hiện tại: 2\n",
      "Số hiện tại: 3\n",
      "Số hiện tại: 4\n",
      "Chào Người học Python, chúc bạn học tốt!\n"
     ]
    }
   ],
   "source": [
    "# 1. Khai báo biến và kiểu dữ liệu cơ bản\n",
    "x = 10  # integer\n",
    "y = 3.14  # float\n",
    "name = \"Python\"  # string\n",
    "is_active = True  # boolean\n",
    "\n",
    "# In ra giá trị của các biến\n",
    "print(\"Giá trị của x:\", x)\n",
    "print(\"Giá trị của y:\", y)\n",
    "print(\"Tên ngôn ngữ:\", name)\n",
    "print(\"Người dùng có kích hoạt tính năng:\", is_active)\n",
    "\n",
    "# 2. Toán tử cơ bản\n",
    "sum_result = x + y  # cộng\n",
    "diff_result = x - y  # trừ\n",
    "mul_result = x * y  # nhân\n",
    "div_result = x / y  # chia\n",
    "\n",
    "# In kết quả toán học\n",
    "print(\"Tổng của x và y:\", sum_result)\n",
    "print(\"Hiệu của x và y:\", diff_result)\n",
    "print(\"Tích của x và y:\", mul_result)\n",
    "print(\"Thương của x và y:\", div_result)\n",
    "\n",
    "# 3. Câu lệnh điều kiện\n",
    "if x > 5:\n",
    "    print(\"x lớn hơn 5\")\n",
    "else:\n",
    "    print(\"x nhỏ hơn hoặc bằng 5\")\n",
    "\n",
    "# 4. Vòng lặp\n",
    "for i in range(5):  # In ra các số từ 0 đến 4\n",
    "    print(\"Số hiện tại:\", i)\n",
    "\n",
    "# 5. Định nghĩa hàm\n",
    "def greet(name):\n",
    "    return f\"Chào {name}, chúc bạn học tốt!\"\n",
    "\n",
    "# Gọi hàm\n",
    "greeting_message = greet(\"Người học Python\")\n",
    "print(greeting_message)\n",
    "\n"
   ]
  }
 ],
 "metadata": {
  "kernelspec": {
   "display_name": "fsds_env",
   "language": "python",
   "name": "python3"
  },
  "language_info": {
   "codemirror_mode": {
    "name": "ipython",
    "version": 3
   },
   "file_extension": ".py",
   "mimetype": "text/x-python",
   "name": "python",
   "nbconvert_exporter": "python",
   "pygments_lexer": "ipython3",
   "version": "3.9.21"
  }
 },
 "nbformat": 4,
 "nbformat_minor": 5
}
