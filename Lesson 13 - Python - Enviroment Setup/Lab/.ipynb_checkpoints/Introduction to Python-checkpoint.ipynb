{
 "cells": [
  {
   "cell_type": "code",
   "execution_count": 10,
   "id": "d6a44af2-daab-47d5-9b6c-313d371e881a",
   "metadata": {},
   "outputs": [
    {
     "name": "stdout",
     "output_type": "stream",
     "text": [
      "Hello, World\n",
      "Hello, World\n",
      "'\"Hello, World\"'\n"
     ]
    }
   ],
   "source": [
    "print(\"Hello, World\")"
   ]
  },
  {
   "cell_type": "code",
   "execution_count": null,
   "id": "e9d20a93-c8f6-4246-9dc3-eb0627ed1f74",
   "metadata": {},
   "outputs": [],
   "source": [
    "print(\"Hello, World\")\n",
    "print('Hello, World')\n",
    "print(\"\"\"'\"Hello, World\"'\"\"\")"
   ]
  },
  {
   "cell_type": "code",
   "execution_count": null,
   "id": "a42095c6-d416-4874-8498-3e26cf006c07",
   "metadata": {},
   "outputs": [],
   "source": []
  },
  {
   "cell_type": "code",
   "execution_count": null,
   "id": "f7927329-365b-4b5e-b7da-d09d17596164",
   "metadata": {},
   "outputs": [],
   "source": [
    "# 1. Khai báo biến và kiểu dữ liệu cơ bản\n",
    "x = 10  # integer\n",
    "y = 3.14  # float\n",
    "name = \"Python\"  # string\n",
    "is_active = True  # boolean\n",
    "\n",
    "# In ra giá trị của các biến\n",
    "print(\"Giá trị của x:\", x)\n",
    "print(\"Giá trị của y:\", y)\n",
    "print(\"Tên ngôn ngữ:\", name)\n",
    "print(\"Người dùng có kích hoạt tính năng:\", is_active)\n",
    "\n",
    "# 2. Toán tử cơ bản\n",
    "sum_result = x + y  # cộng\n",
    "diff_result = x - y  # trừ\n",
    "mul_result = x * y  # nhân\n",
    "div_result = x / y  # chia\n",
    "\n",
    "# In kết quả toán học\n",
    "print(\"Tổng của x và y:\", sum_result)\n",
    "print(\"Hiệu của x và y:\", diff_result)\n",
    "print(\"Tích của x và y:\", mul_result)\n",
    "print(\"Thương của x và y:\", div_result)\n",
    "\n",
    "# 3. Câu lệnh điều kiện\n",
    "if x > 5:\n",
    "    print(\"x lớn hơn 5\")\n",
    "else:\n",
    "    print(\"x nhỏ hơn hoặc bằng 5\")\n",
    "\n",
    "# 4. Vòng lặp\n",
    "for i in range(5):  # In ra các số từ 0 đến 4\n",
    "    print(\"Số hiện tại:\", i)\n",
    "\n",
    "# 5. Định nghĩa hàm\n",
    "def greet(name):\n",
    "    return f\"Chào {name}, chúc bạn học tốt!\"\n",
    "\n",
    "# Gọi hàm\n",
    "greeting_message = greet(\"Người học Python\")\n",
    "print(greeting_message)\n",
    "\n",
    "# 6. Danh sách và thao tác với danh sách\n",
    "fruits = [\"Táo\", \"Chuối\", \"Cam\"]\n",
    "\n",
    "# Thêm phần tử vào danh sách\n",
    "fruits.append(\"Dưa hấu\")\n",
    "print(\"Danh sách trái cây:\", fruits)\n",
    "\n",
    "# Truy cập phần tử trong danh sách\n",
    "print(\"Trái cây đầu tiên trong danh sách:\", fruits[0])\n",
    "\n",
    "# 7. Dùng vòng lặp với danh sách\n",
    "for fruit in fruits:\n",
    "    print(f\"Trái cây: {fruit}\")\n"
   ]
  }
 ],
 "metadata": {
  "kernelspec": {
   "display_name": "Python [conda env:base] *",
   "language": "python",
   "name": "conda-base-py"
  },
  "language_info": {
   "codemirror_mode": {
    "name": "ipython",
    "version": 3
   },
   "file_extension": ".py",
   "mimetype": "text/x-python",
   "name": "python",
   "nbconvert_exporter": "python",
   "pygments_lexer": "ipython3",
   "version": "3.12.7"
  }
 },
 "nbformat": 4,
 "nbformat_minor": 5
}
