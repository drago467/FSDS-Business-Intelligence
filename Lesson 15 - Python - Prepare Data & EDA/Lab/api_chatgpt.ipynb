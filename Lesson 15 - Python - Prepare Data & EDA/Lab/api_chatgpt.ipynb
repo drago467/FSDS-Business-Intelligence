{
 "cells": [
  {
   "cell_type": "code",
   "execution_count": 1,
   "id": "583c3866",
   "metadata": {},
   "outputs": [
    {
     "name": "stdout",
     "output_type": "stream",
     "text": [
      "Requirement already satisfied: openai in /opt/anaconda3/envs/fsds_env/lib/python3.9/site-packages (0.28.0)\n",
      "Requirement already satisfied: requests>=2.20 in /opt/anaconda3/envs/fsds_env/lib/python3.9/site-packages (from openai) (2.32.3)\n",
      "Requirement already satisfied: tqdm in /opt/anaconda3/envs/fsds_env/lib/python3.9/site-packages (from openai) (4.67.1)\n",
      "Requirement already satisfied: aiohttp in /opt/anaconda3/envs/fsds_env/lib/python3.9/site-packages (from openai) (3.11.18)\n",
      "Requirement already satisfied: charset-normalizer<4,>=2 in /opt/anaconda3/envs/fsds_env/lib/python3.9/site-packages (from requests>=2.20->openai) (3.4.2)\n",
      "Requirement already satisfied: idna<4,>=2.5 in /opt/anaconda3/envs/fsds_env/lib/python3.9/site-packages (from requests>=2.20->openai) (3.10)\n",
      "Requirement already satisfied: urllib3<3,>=1.21.1 in /opt/anaconda3/envs/fsds_env/lib/python3.9/site-packages (from requests>=2.20->openai) (2.4.0)\n",
      "Requirement already satisfied: certifi>=2017.4.17 in /opt/anaconda3/envs/fsds_env/lib/python3.9/site-packages (from requests>=2.20->openai) (2025.4.26)\n",
      "Requirement already satisfied: aiohappyeyeballs>=2.3.0 in /opt/anaconda3/envs/fsds_env/lib/python3.9/site-packages (from aiohttp->openai) (2.6.1)\n",
      "Requirement already satisfied: aiosignal>=1.1.2 in /opt/anaconda3/envs/fsds_env/lib/python3.9/site-packages (from aiohttp->openai) (1.3.2)\n",
      "Requirement already satisfied: async-timeout<6.0,>=4.0 in /opt/anaconda3/envs/fsds_env/lib/python3.9/site-packages (from aiohttp->openai) (5.0.1)\n",
      "Requirement already satisfied: attrs>=17.3.0 in /opt/anaconda3/envs/fsds_env/lib/python3.9/site-packages (from aiohttp->openai) (25.3.0)\n",
      "Requirement already satisfied: frozenlist>=1.1.1 in /opt/anaconda3/envs/fsds_env/lib/python3.9/site-packages (from aiohttp->openai) (1.6.0)\n",
      "Requirement already satisfied: multidict<7.0,>=4.5 in /opt/anaconda3/envs/fsds_env/lib/python3.9/site-packages (from aiohttp->openai) (6.4.3)\n",
      "Requirement already satisfied: propcache>=0.2.0 in /opt/anaconda3/envs/fsds_env/lib/python3.9/site-packages (from aiohttp->openai) (0.3.1)\n",
      "Requirement already satisfied: yarl<2.0,>=1.17.0 in /opt/anaconda3/envs/fsds_env/lib/python3.9/site-packages (from aiohttp->openai) (1.20.0)\n",
      "Requirement already satisfied: typing-extensions>=4.1.0 in /opt/anaconda3/envs/fsds_env/lib/python3.9/site-packages (from multidict<7.0,>=4.5->aiohttp->openai) (4.13.2)\n"
     ]
    }
   ],
   "source": [
    "# Nếu chưa có thì cài đặt openai\n",
    "!pip install openai\n"
   ]
  },
  {
   "cell_type": "code",
   "execution_count": null,
   "id": "61d8fb3d",
   "metadata": {},
   "outputs": [
    {
     "name": "stdout",
     "output_type": "stream",
     "text": [
      "- Danh mục cấp 1: Điện thoại\n",
      "- Danh mục cấp 2: Smartphone\n"
     ]
    }
   ],
   "source": [
    "import openai\n",
    "\n",
    "# Nhập api-key\n",
    "\n",
    "# Tên sản phẩm cần phân loại\n",
    "product_name = \"iPhone 15 Pro Max 256GB\"\n",
    "\n",
    "# Prompt yêu cầu ChatGPT phân loại sản phẩm\n",
    "prompt = f\"\"\"\n",
    "Bạn là một hệ thống phân loại sản phẩm.\n",
    "Hãy phân loại sản phẩm sau vào đúng danh mục sản phẩm phổ biến.\n",
    "\n",
    "Sản phẩm: {product_name}\n",
    "\n",
    "Kết quả mong muốn:\n",
    "- Danh mục cấp 1: (vd: Điện thoại - Laptop - Thời trang - Đồ gia dụng)\n",
    "- Danh mục cấp 2: (vd: Smartphone, Máy tính bảng, Phụ kiện điện thoại)\n",
    "\"\"\"\n",
    "\n",
    "# Gọi API ChatGPT (gpt-4 hoặc gpt-3.5-turbo đều được)\n",
    "response = openai.ChatCompletion.create(\n",
    "    model=\"gpt-4o-mini\",\n",
    "    messages=[\n",
    "        {\"role\": \"user\", \"content\": prompt}\n",
    "    ],\n",
    "    temperature=0.3  # Giữ câu trả lời ổn định, ít ngẫu nhiên\n",
    ")\n",
    "\n",
    "# In kết quả trả về\n",
    "result = response['choices'][0]['message']['content']\n",
    "print(result)\n"
   ]
  }
 ],
 "metadata": {
  "kernelspec": {
   "display_name": "fsds_env",
   "language": "python",
   "name": "python3"
  },
  "language_info": {
   "codemirror_mode": {
    "name": "ipython",
    "version": 3
   },
   "file_extension": ".py",
   "mimetype": "text/x-python",
   "name": "python",
   "nbconvert_exporter": "python",
   "pygments_lexer": "ipython3",
   "version": "3.9.21"
  }
 },
 "nbformat": 4,
 "nbformat_minor": 5
}
