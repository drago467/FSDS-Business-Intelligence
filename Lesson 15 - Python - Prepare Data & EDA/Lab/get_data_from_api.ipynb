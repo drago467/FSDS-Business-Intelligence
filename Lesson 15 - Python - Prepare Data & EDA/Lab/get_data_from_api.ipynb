{
 "cells": [
  {
   "cell_type": "markdown",
   "id": "24d67370",
   "metadata": {},
   "source": [
    "# 1. Weather API\n",
    "https://open-meteo.com/?utm_source=chatgpt.com"
   ]
  },
  {
   "cell_type": "code",
   "execution_count": 1,
   "id": "30bf90d0",
   "metadata": {},
   "outputs": [
    {
     "name": "stdout",
     "output_type": "stream",
     "text": [
      "Thời gian: 2025-05-12T05:30\n",
      "Nhiệt độ hiện tại: 28.2°C\n",
      "Tốc độ gió: 3.9 km/h\n",
      "Mã thời tiết: 2\n"
     ]
    }
   ],
   "source": [
    "import requests\n",
    "\n",
    "# Tọa độ của Hà Nội\n",
    "latitude = 21.0285\n",
    "longitude = 105.8542\n",
    "\n",
    "# URL API\n",
    "url = f\"https://api.open-meteo.com/v1/forecast?latitude={latitude}&longitude={longitude}&current_weather=true\"\n",
    "\n",
    "# Gửi yêu cầu GET đến API\n",
    "response = requests.get(url)\n",
    "\n",
    "# Kiểm tra nếu yêu cầu thành công\n",
    "if response.status_code == 200:\n",
    "    data = response.json()\n",
    "    current_weather = data.get(\"current_weather\", {})\n",
    "    temperature = current_weather.get(\"temperature\")\n",
    "    windspeed = current_weather.get(\"windspeed\")\n",
    "    weather_code = current_weather.get(\"weathercode\")\n",
    "    time = current_weather.get(\"time\")\n",
    "\n",
    "    print(f\"Thời gian: {time}\")\n",
    "    print(f\"Nhiệt độ hiện tại: {temperature}°C\")\n",
    "    print(f\"Tốc độ gió: {windspeed} km/h\")\n",
    "    print(f\"Mã thời tiết: {weather_code}\")\n",
    "else:\n",
    "    print(f\"Lỗi khi lấy dữ liệu: {response.status_code}\")\n"
   ]
  },
  {
   "cell_type": "markdown",
   "id": "5932d11d",
   "metadata": {},
   "source": [
    "Lat Long Thành phố"
   ]
  },
  {
   "cell_type": "code",
   "execution_count": 3,
   "id": "8cfcd9b6",
   "metadata": {},
   "outputs": [
    {
     "name": "stdout",
     "output_type": "stream",
     "text": [
      "Collecting geopy\n",
      "  Using cached geopy-2.4.1-py3-none-any.whl.metadata (6.8 kB)\n",
      "Collecting geographiclib<3,>=1.52 (from geopy)\n",
      "  Using cached geographiclib-2.0-py3-none-any.whl.metadata (1.4 kB)\n",
      "Using cached geopy-2.4.1-py3-none-any.whl (125 kB)\n",
      "Using cached geographiclib-2.0-py3-none-any.whl (40 kB)\n",
      "Installing collected packages: geographiclib, geopy\n",
      "Successfully installed geographiclib-2.0 geopy-2.4.1\n"
     ]
    }
   ],
   "source": [
    "!pip install geopy"
   ]
  },
  {
   "cell_type": "code",
   "execution_count": 5,
   "id": "5499929e",
   "metadata": {},
   "outputs": [
    {
     "name": "stdout",
     "output_type": "stream",
     "text": [
      "Latitude: 20.449288\n",
      "Longitude: 106.3424967\n"
     ]
    }
   ],
   "source": [
    "from geopy.geocoders import Nominatim\n",
    "\n",
    "geolocator = Nominatim(user_agent=\"vn_location_app\")\n",
    "location = geolocator.geocode(\"Thái Bình, Việt Nam\")\n",
    "\n",
    "if location:\n",
    "    print(\"Latitude:\", location.latitude)\n",
    "    print(\"Longitude:\", location.longitude)\n",
    "else:\n",
    "    print(\"Không tìm thấy địa điểm.\")\n"
   ]
  },
  {
   "cell_type": "markdown",
   "id": "74c08443",
   "metadata": {},
   "source": [
    "# 2. Lấy data tới ngày hiện tại\n"
   ]
  },
  {
   "cell_type": "code",
   "execution_count": 9,
   "id": "506d117d",
   "metadata": {},
   "outputs": [
    {
     "name": "stdout",
     "output_type": "stream",
     "text": [
      "       province        date  temp_max  temp_min  windspeed_max  weathercode\n",
      "0        Hà Nội  2025-05-10      30.6      25.4           17.9           96\n",
      "1   Hồ Chí Minh  2025-05-10      32.2      27.0            7.3           95\n",
      "2       Đà Nẵng  2025-05-10      31.2      27.5           14.3           80\n",
      "3     Hải Phòng  2025-05-10      29.9      26.4           12.6           96\n",
      "4       Cần Thơ  2025-05-10      33.1      26.8           11.1           95\n",
      "5        Hà Nội  2025-05-11      27.1      20.4           15.5           81\n",
      "6   Hồ Chí Minh  2025-05-11      32.7      26.3            5.8            3\n",
      "7       Đà Nẵng  2025-05-11      29.8      26.2           18.5           95\n",
      "8     Hải Phòng  2025-05-11      26.6      20.4           17.1           80\n",
      "9       Cần Thơ  2025-05-11      32.8      25.7            8.0           95\n",
      "10       Hà Nội  2025-05-12      29.0      20.9            8.9            3\n",
      "11  Hồ Chí Minh  2025-05-12      32.7      26.2           11.4           95\n",
      "12      Đà Nẵng  2025-05-12      27.7      25.8           19.4           80\n",
      "13    Hải Phòng  2025-05-12      27.6      22.3            7.6            3\n",
      "14      Cần Thơ  2025-05-12      33.3      26.2           10.6           96\n"
     ]
    }
   ],
   "source": [
    "import pandas as pd\n",
    "import requests\n",
    "\n",
    "provinces = {\n",
    "    \"Hà Nội\": (21.0285, 105.8542),\n",
    "    \"Hồ Chí Minh\": (10.762622, 106.660172),\n",
    "    \"Đà Nẵng\": (16.047079, 108.206230),\n",
    "    \"Hải Phòng\": (20.844912, 106.688085),\n",
    "    \"Cần Thơ\": (10.045162, 105.746857)\n",
    "}\n",
    "\n",
    "# event_dates = [\"2025-05-01\", \"2025-05-02\"]\n",
    "start_date = \"2025-05-10\"\n",
    "today = pd.to_datetime(\"today\").date()\n",
    "event_dates = pd.date_range(start=start_date, end=today).strftime('%Y-%m-%d').tolist()\n",
    "\n",
    "results = []\n",
    "\n",
    "for date in event_dates:\n",
    "    for province, (lat, lon) in provinces.items():\n",
    "        url = (\n",
    "            f\"https://api.open-meteo.com/v1/forecast?\"\n",
    "            f\"latitude={lat}&longitude={lon}&start_date={date}&end_date={date}\"\n",
    "            f\"&daily=temperature_2m_max,temperature_2m_min,windspeed_10m_max,weathercode\"\n",
    "            f\"&timezone=auto\"\n",
    "        )\n",
    "        r = requests.get(url)\n",
    "        if r.ok:\n",
    "            data = r.json().get(\"daily\", {})\n",
    "            if data:\n",
    "                results.append({\n",
    "                    \"province\": province,\n",
    "                    \"date\": date,\n",
    "                    \"temp_max\": data[\"temperature_2m_max\"][0],\n",
    "                    \"temp_min\": data[\"temperature_2m_min\"][0],\n",
    "                    \"windspeed_max\": data[\"windspeed_10m_max\"][0],\n",
    "                    \"weathercode\": data[\"weathercode\"][0]\n",
    "                })\n",
    "\n",
    "df = pd.DataFrame(results)\n",
    "print(df)\n",
    "\n"
   ]
  }
 ],
 "metadata": {
  "kernelspec": {
   "display_name": "fsds_env",
   "language": "python",
   "name": "python3"
  },
  "language_info": {
   "codemirror_mode": {
    "name": "ipython",
    "version": 3
   },
   "file_extension": ".py",
   "mimetype": "text/x-python",
   "name": "python",
   "nbconvert_exporter": "python",
   "pygments_lexer": "ipython3",
   "version": "3.9.21"
  }
 },
 "nbformat": 4,
 "nbformat_minor": 5
}
