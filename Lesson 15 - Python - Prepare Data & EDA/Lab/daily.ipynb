{
 "cells": [
  {
   "cell_type": "code",
   "execution_count": 2,
   "id": "bebf5e86-4993-44d5-8ab0-6b191f693e83",
   "metadata": {},
   "outputs": [
    {
     "name": "stdout",
     "output_type": "stream",
     "text": [
      "       province        date  temp_max  temp_min  windspeed_max  weathercode\n",
      "0        Hà Nội  2025-05-10      30.6      25.4           17.9           96\n",
      "1   Hồ Chí Minh  2025-05-10      32.2      27.0            7.3           95\n",
      "2       Đà Nẵng  2025-05-10      31.2      27.5           14.3           80\n",
      "3     Hải Phòng  2025-05-10      29.9      26.4           12.6           96\n",
      "4       Cần Thơ  2025-05-10      33.1      26.8           11.1           95\n",
      "5        Hà Nội  2025-05-11      27.1      20.4           15.5           81\n",
      "6   Hồ Chí Minh  2025-05-11      32.7      26.3            5.8            3\n",
      "7       Đà Nẵng  2025-05-11      29.8      26.2           18.5           95\n",
      "8     Hải Phòng  2025-05-11      26.6      20.4           17.1           80\n",
      "9       Cần Thơ  2025-05-11      32.8      25.7            8.0           95\n",
      "10       Hà Nội  2025-05-12      29.0      20.9            8.9            3\n",
      "11  Hồ Chí Minh  2025-05-12      32.7      26.2           11.4           95\n",
      "12      Đà Nẵng  2025-05-12      27.7      25.8           19.4           80\n",
      "13    Hải Phòng  2025-05-12      27.6      22.3            7.6            3\n",
      "14      Cần Thơ  2025-05-12      33.3      26.2           10.6           96\n"
     ]
    }
   ],
   "source": [
    "import pandas as pd\n",
    "import requests\n",
    "\n",
    "provinces = {\n",
    "    \"Hà Nội\": (21.0285, 105.8542),\n",
    "    \"Hồ Chí Minh\": (10.762622, 106.660172),\n",
    "    \"Đà Nẵng\": (16.047079, 108.206230),\n",
    "    \"Hải Phòng\": (20.844912, 106.688085),\n",
    "    \"Cần Thơ\": (10.045162, 105.746857)\n",
    "}\n",
    "\n",
    "# event_dates = [\"2025-05-01\", \"2025-05-02\"]\n",
    "start_date = \"2025-05-08\"\n",
    "today = pd.to_datetime(\"today\").date()\n",
    "event_dates = pd.date_range(start=start_date, end=today).strftime('%Y-%m-%d').tolist()\n",
    "\n",
    "results = []\n",
    "\n",
    "for date in event_dates:\n",
    "    for province, (lat, lon) in provinces.items():\n",
    "        url = (\n",
    "            f\"https://api.open-meteo.com/v1/forecast?\"\n",
    "            f\"latitude={lat}&longitude={lon}&start_date={date}&end_date={date}\"\n",
    "            f\"&daily=temperature_2m_max,temperature_2m_min,windspeed_10m_max,weathercode\"\n",
    "            f\"&timezone=auto\"\n",
    "        )\n",
    "        r = requests.get(url)\n",
    "        if r.ok:\n",
    "            data = r.json().get(\"daily\", {})\n",
    "            if data:\n",
    "                results.append({\n",
    "                    \"province\": province,\n",
    "                    \"date\": date,\n",
    "                    \"temp_max\": data[\"temperature_2m_max\"][0],\n",
    "                    \"temp_min\": data[\"temperature_2m_min\"][0],\n",
    "                    \"windspeed_max\": data[\"windspeed_10m_max\"][0],\n",
    "                    \"weathercode\": data[\"weathercode\"][0]\n",
    "                })\n",
    "\n",
    "df = pd.DataFrame(results)\n",
    "print(df)\n",
    "\n"
   ]
  },
  {
   "cell_type": "code",
   "execution_count": 5,
   "id": "01a03d8d-f6d8-400d-aff4-847ac482c5c6",
   "metadata": {},
   "outputs": [
    {
     "name": "stderr",
     "output_type": "stream",
     "text": [
      "/opt/anaconda3/lib/python3.12/site-packages/google/cloud/bigquery/_pandas_helpers.py:489: FutureWarning: Loading pandas DataFrame into BigQuery will require pandas-gbq package version 0.26.1 or greater in the future. Tried to import pandas-gbq and got: No module named 'pandas_gbq'\n",
      "  warnings.warn(\n"
     ]
    },
    {
     "name": "stdout",
     "output_type": "stream",
     "text": [
      "✅ Đã tải 15 dòng vào bảng fsds-bi.sample_datawarehouse.fake_data_daily\n"
     ]
    }
   ],
   "source": [
    "import pandas as pd\n",
    "from google.cloud import bigquery\n",
    "from google.oauth2 import service_account\n",
    "\n",
    "project_id = \"fsds-bi\"\n",
    "dataset_id = \"sample_datawarehouse\"\n",
    "table_id = \"fake_data_daily\"\n",
    "key_path = \"/Users/nguyentienhuy/Documents/fsds/BI/material/Lesson 15 - Python 3/fsds-bi-96a792b2baf8.json\"\n",
    "\n",
    "# Bước 3: Tạo client BigQuery\n",
    "credentials = service_account.Credentials.from_service_account_file(key_path)\n",
    "client = bigquery.Client(credentials=credentials, project=project_id)\n",
    "\n",
    "# Bước 4: Tạo tham chiếu bảng\n",
    "table_ref = f\"{project_id}.{dataset_id}.{table_id}\"\n",
    "\n",
    "# Bước 5: Cấu hình ghi đè bảng nếu đã tồn tại\n",
    "job_config = bigquery.LoadJobConfig(\n",
    "    write_disposition=bigquery.WriteDisposition.WRITE_TRUNCATE,\n",
    "    autodetect=True,  \n",
    ")\n",
    "\n",
    "# Bước 6: Load DataFrame vào BigQuery\n",
    "job = client.load_table_from_dataframe(df, table_ref, job_config=job_config)\n",
    "job.result()  \n",
    "\n",
    "# Bước 7: Xác nhận\n",
    "print(f\"✅ Đã tải {job.output_rows} dòng vào bảng {table_ref}\")"
   ]
  },
  {
   "cell_type": "code",
   "execution_count": null,
   "id": "f00e9180-5614-4a8d-a3f8-b1a0f0156bde",
   "metadata": {},
   "outputs": [],
   "source": []
  }
 ],
 "metadata": {
  "kernelspec": {
   "display_name": "Python (base)",
   "language": "python",
   "name": "base"
  },
  "language_info": {
   "codemirror_mode": {
    "name": "ipython",
    "version": 3
   },
   "file_extension": ".py",
   "mimetype": "text/x-python",
   "name": "python",
   "nbconvert_exporter": "python",
   "pygments_lexer": "ipython3",
   "version": "3.12.7"
  }
 },
 "nbformat": 4,
 "nbformat_minor": 5
}
